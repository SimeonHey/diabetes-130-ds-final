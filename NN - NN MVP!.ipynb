{
 "cells": [
  {
   "cell_type": "code",
   "execution_count": 3,
   "metadata": {},
   "outputs": [],
   "source": [
    "import pandas as pd\n",
    "import numpy as np\n",
    "import matplotlib.pyplot as plt\n",
    "import tensorflow as tf\n",
    "from sklearn.model_selection import train_test_split\n",
    "\n",
    "pd.set_option('display.max_columns', None)\n",
    "\n",
    "class DatasetHolder:\n",
    "    def __init__(self, X_train, y_train, X_dev, y_dev, X_test, y_test):\n",
    "        self.X_train = X_train\n",
    "        self.y_train = y_train\n",
    "        \n",
    "        self.X_dev = X_dev\n",
    "        self.y_dev = y_dev\n",
    "        \n",
    "        self.X_test = X_test\n",
    "        self.y_test = y_test\n",
    "\n",
    "def split_simple(X, y):\n",
    "    X_train, X_test, y_train, y_test = train_test_split(X, y, test_size=0.2, random_state=1)\n",
    "    X_train, X_dev, y_train, y_dev = train_test_split(X_train, y_train, test_size=0.2, random_state=1)\n",
    "    \n",
    "    return DatasetHolder(X_train, y_train, X_dev, y_dev, X_test, y_test)\n",
    "\n",
    "def load_csv(path):\n",
    "    return pd.read_csv(path)\n",
    "\n",
    "def load_dataset(path):\n",
    "    print(f\"Loading dataset from {path}...\")\n",
    "    df = load_csv(path)\n",
    "    X_full, y_full = df.drop('next_time_in_hospital', axis=1).values, df['next_time_in_hospital'].values\n",
    "    print(f\"Shape of dataset: {X_full.shape}\")\n",
    "    \n",
    "    return split_simple(X_full, y_full)"
   ]
  },
  {
   "cell_type": "code",
   "execution_count": 4,
   "metadata": {},
   "outputs": [
    {
     "name": "stdout",
     "output_type": "stream",
     "text": [
      "Loading dataset from nn_allcats_ds.csv...\n",
      "Shape of dataset: (30248, 1903)\n"
     ]
    }
   ],
   "source": [
    "simple = load_dataset(\"nn_allcats_ds.csv\")"
   ]
  },
  {
   "cell_type": "code",
   "execution_count": 27,
   "metadata": {},
   "outputs": [],
   "source": [
    "from sklearn.metrics import mean_squared_error\n",
    "from sklearn.metrics import mean_tweedie_deviance\n",
    "import time\n",
    "\n",
    "def train_model_for_seconds(dataset, model, seconds=10, batch_size=None):\n",
    "    start_time = time.time()\n",
    "    # your code\n",
    "    \n",
    "    epochs = 0\n",
    "    loss_hist = []\n",
    "    val_loss_hist = []\n",
    "    \n",
    "    while time.time() - start_time < seconds:\n",
    "        cur = model.fit(dataset.X_train, dataset.y_train, batch_size=batch_size, epochs=1, \n",
    "                        validation_data=(dataset.X_dev, dataset.y_dev))\n",
    "        \n",
    "        for el in cur.history['loss']:\n",
    "            loss_hist.append(el)\n",
    "        \n",
    "        for el in cur.history['val_loss']:\n",
    "            val_loss_hist.append(el)\n",
    "        \n",
    "        epochs += 1\n",
    "    \n",
    "    elapsed = time.time() - start_time\n",
    "    print(f\"Trained model on {epochs} epochs for time {elapsed} secs ({epochs/elapsed} epochs in second)\")\n",
    "    \n",
    "    print(\"Loss history:\")\n",
    "    plt.plot(range(len(loss_hist)), loss_hist, label='loss')\n",
    "    plt.plot(range(len(val_loss_hist)), val_loss_hist, label='val_loss')\n",
    "    plt.show()\n",
    "\n",
    "def eval_model(dataset, model, batch_size=None):\n",
    "    train_model_for_seconds(dataset, model, batch_size=batch_size)\n",
    "    predictions = model.predict(dataset.X_dev)\n",
    "    ret = f\"mean squared error: {mean_squared_error(dataset.y_dev, predictions)}\"# , poisson: {mean_tweedie_deviance(dataset.y_dev, predictions, power=1)}\"\n",
    "    \n",
    "#     diffs = dataset.y_dev - predictions[:, 0]\n",
    "#     plt.hist(diffs)\n",
    "    \n",
    "    return ret"
   ]
  },
  {
   "cell_type": "code",
   "execution_count": 6,
   "metadata": {
    "scrolled": true
   },
   "outputs": [],
   "source": [
    "def get_perceptron_m(dataset):\n",
    "    perceptron_m = tf.keras.Sequential([\n",
    "        tf.keras.layers.Dense(1, input_shape=(dataset.X_train.shape[1],))\n",
    "    ])\n",
    "    perceptron_m.compile(optimizer=tf.keras.optimizers.Adam(), loss='mean_squared_error')\n",
    "    \n",
    "    return perceptron_m\n",
    "\n",
    "perceptron_m = get_perceptron_m(simple)"
   ]
  },
  {
   "cell_type": "code",
   "execution_count": 7,
   "metadata": {
    "scrolled": true
   },
   "outputs": [],
   "source": [
    "def get_two_layer_m(dataset):\n",
    "    two_layer_m = tf.keras.Sequential([\n",
    "        tf.keras.layers.Dense(simple.X_train.shape[1], input_shape=(dataset.X_train.shape[1],), activation='relu'),\n",
    "        tf.keras.layers.Dense(1)\n",
    "    ])\n",
    "    two_layer_m.compile(optimizer=tf.keras.optimizers.Adam(), loss='mean_squared_error')\n",
    "    \n",
    "    return two_layer_m\n",
    "\n",
    "two_layer_m = get_two_layer_m(simple)"
   ]
  },
  {
   "cell_type": "code",
   "execution_count": 8,
   "metadata": {},
   "outputs": [],
   "source": [
    "def get_three_layer_m(dataset):\n",
    "    three_layer_m = tf.keras.Sequential([\n",
    "        tf.keras.layers.Dense(simple.X_train.shape[1], input_shape=(dataset.X_train.shape[1],), activation='relu'),\n",
    "        tf.keras.layers.Dense(simple.X_train.shape[1], activation='relu'),\n",
    "        tf.keras.layers.Dense(1)\n",
    "    ])\n",
    "    three_layer_m.compile(optimizer=tf.keras.optimizers.Adam(), loss='mean_squared_error')\n",
    "    \n",
    "    return three_layer_m\n",
    "\n",
    "three_layer_m = get_three_layer_m(simple)"
   ]
  },
  {
   "cell_type": "code",
   "execution_count": 9,
   "metadata": {
    "scrolled": true
   },
   "outputs": [],
   "source": [
    "def get_four_layer_m(dataset):\n",
    "    four_layer_m = tf.keras.Sequential([\n",
    "        tf.keras.layers.Dense(simple.X_train.shape[1], input_shape=(dataset.X_train.shape[1],), activation='relu'),\n",
    "        tf.keras.layers.Dense(simple.X_train.shape[1], activation='relu'),\n",
    "        tf.keras.layers.Dense(simple.X_train.shape[1], activation='relu'),\n",
    "        tf.keras.layers.Dense(1)\n",
    "    ])\n",
    "    four_layer_m.compile(optimizer=tf.keras.optimizers.Adam(), loss='mean_squared_error')\n",
    "    \n",
    "    return four_layer_m\n",
    "\n",
    "four_layer_m = get_four_layer_m(simple)"
   ]
  },
  {
   "cell_type": "code",
   "execution_count": 10,
   "metadata": {
    "scrolled": true
   },
   "outputs": [],
   "source": [
    "def get_expdec_four_layer_m(dataset):\n",
    "    expdec_four_layer_m = tf.keras.Sequential([\n",
    "        tf.keras.layers.Dense(simple.X_train.shape[1], input_shape=(dataset.X_train.shape[1],), activation='relu'),\n",
    "        tf.keras.layers.Dense(simple.X_train.shape[1]**(1/2), activation='relu'),\n",
    "        tf.keras.layers.Dense(simple.X_train.shape[1]**(1/4), activation='relu'),\n",
    "        tf.keras.layers.Dense(1)\n",
    "    ])\n",
    "    expdec_four_layer_m.compile(optimizer=tf.keras.optimizers.Adam(), loss='mean_squared_error')\n",
    "    \n",
    "    return expdec_four_layer_m\n",
    "\n",
    "expdec_four_layer_m = get_expdec_four_layer_m(simple)"
   ]
  },
  {
   "cell_type": "code",
   "execution_count": 11,
   "metadata": {},
   "outputs": [],
   "source": [
    "def get_expdec_three_layer_m(dataset):\n",
    "    expdec_three_layer_m = tf.keras.Sequential([\n",
    "        tf.keras.layers.Dense(simple.X_train.shape[1], input_shape=(dataset.X_train.shape[1],), activation='relu'),\n",
    "        tf.keras.layers.Dense(simple.X_train.shape[1]**(1/2), activation='relu'),\n",
    "        tf.keras.layers.Dense(1)\n",
    "    ])\n",
    "    expdec_three_layer_m.compile(optimizer=tf.keras.optimizers.Adam(), loss='mean_squared_error')\n",
    "    \n",
    "    return expdec_three_layer_m\n",
    "\n",
    "expdec_three_layer_m = get_expdec_three_layer_m(simple)"
   ]
  },
  {
   "cell_type": "code",
   "execution_count": 12,
   "metadata": {},
   "outputs": [],
   "source": [
    "def get_expdec_smallstart_three_layer_m(dataset):\n",
    "    expdec_smallstart_three_layer_m = tf.keras.Sequential([\n",
    "        tf.keras.layers.Dense(simple.X_train.shape[1]**(1/4), input_shape=(dataset.X_train.shape[1],), activation='relu'),\n",
    "        tf.keras.layers.Dense(simple.X_train.shape[1]**(1/8), activation='relu'),\n",
    "        tf.keras.layers.Dense(1)\n",
    "    ])\n",
    "    expdec_smallstart_three_layer_m.compile(optimizer=tf.keras.optimizers.Adam(), loss='mean_squared_error')\n",
    "    \n",
    "    return expdec_smallstart_three_layer_m\n",
    "\n",
    "expdec_smallstart_three_layer_m = get_expdec_smallstart_three_layer_m(simple)"
   ]
  },
  {
   "cell_type": "code",
   "execution_count": 13,
   "metadata": {
    "scrolled": true
   },
   "outputs": [
    {
     "name": "stdout",
     "output_type": "stream",
     "text": [
      "Train on 19358 samples, validate on 4840 samples\n",
      "19358/19358 [==============================] - 1s 32us/sample - loss: 3.0747 - val_loss: 3.0379\n",
      "Train on 19358 samples, validate on 4840 samples\n",
      "19358/19358 [==============================] - 0s 16us/sample - loss: 2.9574 - val_loss: 2.9578\n",
      "Train on 19358 samples, validate on 4840 samples\n",
      "19358/19358 [==============================] - 0s 9us/sample - loss: 2.8447 - val_loss: 2.8814\n",
      "Train on 19358 samples, validate on 4840 samples\n",
      "19358/19358 [==============================] - 0s 11us/sample - loss: 2.7366 - val_loss: 2.8083\n",
      "Train on 19358 samples, validate on 4840 samples\n",
      "19358/19358 [==============================] - 0s 9us/sample - loss: 2.6330 - val_loss: 2.7387\n",
      "Train on 19358 samples, validate on 4840 samples\n",
      "19358/19358 [==============================] - 0s 9us/sample - loss: 2.5339 - val_loss: 2.6722\n",
      "Train on 19358 samples, validate on 4840 samples\n",
      "19358/19358 [==============================] - 0s 15us/sample - loss: 2.4392 - val_loss: 2.6085\n",
      "Train on 19358 samples, validate on 4840 samples\n",
      "19358/19358 [==============================] - 0s 18us/sample - loss: 2.3487 - val_loss: 2.5474\n",
      "Train on 19358 samples, validate on 4840 samples\n",
      "19358/19358 [==============================] - 0s 10us/sample - loss: 2.2624 - val_loss: 2.4888\n",
      "Train on 19358 samples, validate on 4840 samples\n",
      "19358/19358 [==============================] - 0s 10us/sample - loss: 2.1802 - val_loss: 2.4325\n"
     ]
    },
    {
     "ename": "KeyboardInterrupt",
     "evalue": "",
     "output_type": "error",
     "traceback": [
      "\u001b[0;31m---------------------------------------------------------------------------\u001b[0m",
      "\u001b[0;31mKeyboardInterrupt\u001b[0m                         Traceback (most recent call last)",
      "\u001b[0;32m<ipython-input-13-21bee4567dc6>\u001b[0m in \u001b[0;36m<module>\u001b[0;34m\u001b[0m\n\u001b[0;32m----> 1\u001b[0;31m \u001b[0meval_model\u001b[0m\u001b[0;34m(\u001b[0m\u001b[0msimple\u001b[0m\u001b[0;34m,\u001b[0m \u001b[0mget_perceptron_m\u001b[0m\u001b[0;34m(\u001b[0m\u001b[0msimple\u001b[0m\u001b[0;34m)\u001b[0m\u001b[0;34m,\u001b[0m \u001b[0mbatch_size\u001b[0m\u001b[0;34m=\u001b[0m\u001b[0msimple\u001b[0m\u001b[0;34m.\u001b[0m\u001b[0mX_train\u001b[0m\u001b[0;34m.\u001b[0m\u001b[0mshape\u001b[0m\u001b[0;34m[\u001b[0m\u001b[0;36m0\u001b[0m\u001b[0;34m]\u001b[0m\u001b[0;34m)\u001b[0m\u001b[0;34m\u001b[0m\u001b[0;34m\u001b[0m\u001b[0m\n\u001b[0m",
      "\u001b[0;32m<ipython-input-5-ff4dbddebb5a>\u001b[0m in \u001b[0;36meval_model\u001b[0;34m(dataset, model, batch_size)\u001b[0m\n\u001b[1;32m     31\u001b[0m \u001b[0;34m\u001b[0m\u001b[0m\n\u001b[1;32m     32\u001b[0m \u001b[0;32mdef\u001b[0m \u001b[0meval_model\u001b[0m\u001b[0;34m(\u001b[0m\u001b[0mdataset\u001b[0m\u001b[0;34m,\u001b[0m \u001b[0mmodel\u001b[0m\u001b[0;34m,\u001b[0m \u001b[0mbatch_size\u001b[0m\u001b[0;34m=\u001b[0m\u001b[0;32mNone\u001b[0m\u001b[0;34m)\u001b[0m\u001b[0;34m:\u001b[0m\u001b[0;34m\u001b[0m\u001b[0;34m\u001b[0m\u001b[0m\n\u001b[0;32m---> 33\u001b[0;31m     \u001b[0mtrain_model_for_seconds\u001b[0m\u001b[0;34m(\u001b[0m\u001b[0mdataset\u001b[0m\u001b[0;34m,\u001b[0m \u001b[0mmodel\u001b[0m\u001b[0;34m,\u001b[0m \u001b[0mbatch_size\u001b[0m\u001b[0;34m=\u001b[0m\u001b[0mbatch_size\u001b[0m\u001b[0;34m)\u001b[0m\u001b[0;34m\u001b[0m\u001b[0;34m\u001b[0m\u001b[0m\n\u001b[0m\u001b[1;32m     34\u001b[0m     \u001b[0mpredictions\u001b[0m \u001b[0;34m=\u001b[0m \u001b[0mmodel\u001b[0m\u001b[0;34m.\u001b[0m\u001b[0mpredict\u001b[0m\u001b[0;34m(\u001b[0m\u001b[0mdataset\u001b[0m\u001b[0;34m.\u001b[0m\u001b[0mX_dev\u001b[0m\u001b[0;34m)\u001b[0m\u001b[0;34m\u001b[0m\u001b[0;34m\u001b[0m\u001b[0m\n\u001b[1;32m     35\u001b[0m     \u001b[0mret\u001b[0m \u001b[0;34m=\u001b[0m \u001b[0;34mf\"mean squared error: {mean_squared_error(dataset.y_dev, predictions)}\"\u001b[0m\u001b[0;31m# , poisson: {mean_tweedie_deviance(dataset.y_dev, predictions, power=1)}\"\u001b[0m\u001b[0;34m\u001b[0m\u001b[0;34m\u001b[0m\u001b[0m\n",
      "\u001b[0;32m<ipython-input-5-ff4dbddebb5a>\u001b[0m in \u001b[0;36mtrain_model_for_seconds\u001b[0;34m(dataset, model, seconds, batch_size)\u001b[0m\n\u001b[1;32m     13\u001b[0m     \u001b[0;32mwhile\u001b[0m \u001b[0mtime\u001b[0m\u001b[0;34m.\u001b[0m\u001b[0mtime\u001b[0m\u001b[0;34m(\u001b[0m\u001b[0;34m)\u001b[0m \u001b[0;34m-\u001b[0m \u001b[0mstart_time\u001b[0m \u001b[0;34m<\u001b[0m \u001b[0mseconds\u001b[0m\u001b[0;34m:\u001b[0m\u001b[0;34m\u001b[0m\u001b[0;34m\u001b[0m\u001b[0m\n\u001b[1;32m     14\u001b[0m         cur = model.fit(dataset.X_train, dataset.y_train, batch_size=batch_size, epochs=1, \n\u001b[0;32m---> 15\u001b[0;31m                         validation_data=(dataset.X_dev, dataset.y_dev))\n\u001b[0m\u001b[1;32m     16\u001b[0m \u001b[0;34m\u001b[0m\u001b[0m\n\u001b[1;32m     17\u001b[0m         \u001b[0;32mfor\u001b[0m \u001b[0mel\u001b[0m \u001b[0;32min\u001b[0m \u001b[0mcur\u001b[0m\u001b[0;34m.\u001b[0m\u001b[0mhistory\u001b[0m\u001b[0;34m[\u001b[0m\u001b[0;34m'loss'\u001b[0m\u001b[0;34m]\u001b[0m\u001b[0;34m:\u001b[0m\u001b[0;34m\u001b[0m\u001b[0;34m\u001b[0m\u001b[0m\n",
      "\u001b[0;32m~/anaconda3/lib/python3.7/site-packages/tensorflow_core/python/keras/engine/training.py\u001b[0m in \u001b[0;36mfit\u001b[0;34m(self, x, y, batch_size, epochs, verbose, callbacks, validation_split, validation_data, shuffle, class_weight, sample_weight, initial_epoch, steps_per_epoch, validation_steps, validation_freq, max_queue_size, workers, use_multiprocessing, **kwargs)\u001b[0m\n\u001b[1;32m    817\u001b[0m         \u001b[0mmax_queue_size\u001b[0m\u001b[0;34m=\u001b[0m\u001b[0mmax_queue_size\u001b[0m\u001b[0;34m,\u001b[0m\u001b[0;34m\u001b[0m\u001b[0;34m\u001b[0m\u001b[0m\n\u001b[1;32m    818\u001b[0m         \u001b[0mworkers\u001b[0m\u001b[0;34m=\u001b[0m\u001b[0mworkers\u001b[0m\u001b[0;34m,\u001b[0m\u001b[0;34m\u001b[0m\u001b[0;34m\u001b[0m\u001b[0m\n\u001b[0;32m--> 819\u001b[0;31m         use_multiprocessing=use_multiprocessing)\n\u001b[0m\u001b[1;32m    820\u001b[0m \u001b[0;34m\u001b[0m\u001b[0m\n\u001b[1;32m    821\u001b[0m   def evaluate(self,\n",
      "\u001b[0;32m~/anaconda3/lib/python3.7/site-packages/tensorflow_core/python/keras/engine/training_v2.py\u001b[0m in \u001b[0;36mfit\u001b[0;34m(self, model, x, y, batch_size, epochs, verbose, callbacks, validation_split, validation_data, shuffle, class_weight, sample_weight, initial_epoch, steps_per_epoch, validation_steps, validation_freq, max_queue_size, workers, use_multiprocessing, **kwargs)\u001b[0m\n\u001b[1;32m    233\u001b[0m           \u001b[0mmax_queue_size\u001b[0m\u001b[0;34m=\u001b[0m\u001b[0mmax_queue_size\u001b[0m\u001b[0;34m,\u001b[0m\u001b[0;34m\u001b[0m\u001b[0;34m\u001b[0m\u001b[0m\n\u001b[1;32m    234\u001b[0m           \u001b[0mworkers\u001b[0m\u001b[0;34m=\u001b[0m\u001b[0mworkers\u001b[0m\u001b[0;34m,\u001b[0m\u001b[0;34m\u001b[0m\u001b[0;34m\u001b[0m\u001b[0m\n\u001b[0;32m--> 235\u001b[0;31m           use_multiprocessing=use_multiprocessing)\n\u001b[0m\u001b[1;32m    236\u001b[0m \u001b[0;34m\u001b[0m\u001b[0m\n\u001b[1;32m    237\u001b[0m       \u001b[0mtotal_samples\u001b[0m \u001b[0;34m=\u001b[0m \u001b[0m_get_total_number_of_samples\u001b[0m\u001b[0;34m(\u001b[0m\u001b[0mtraining_data_adapter\u001b[0m\u001b[0;34m)\u001b[0m\u001b[0;34m\u001b[0m\u001b[0;34m\u001b[0m\u001b[0m\n",
      "\u001b[0;32m~/anaconda3/lib/python3.7/site-packages/tensorflow_core/python/keras/engine/training_v2.py\u001b[0m in \u001b[0;36m_process_training_inputs\u001b[0;34m(model, x, y, batch_size, epochs, sample_weights, class_weights, steps_per_epoch, validation_split, validation_data, validation_steps, shuffle, distribution_strategy, max_queue_size, workers, use_multiprocessing)\u001b[0m\n\u001b[1;32m    591\u001b[0m         \u001b[0mmax_queue_size\u001b[0m\u001b[0;34m=\u001b[0m\u001b[0mmax_queue_size\u001b[0m\u001b[0;34m,\u001b[0m\u001b[0;34m\u001b[0m\u001b[0;34m\u001b[0m\u001b[0m\n\u001b[1;32m    592\u001b[0m         \u001b[0mworkers\u001b[0m\u001b[0;34m=\u001b[0m\u001b[0mworkers\u001b[0m\u001b[0;34m,\u001b[0m\u001b[0;34m\u001b[0m\u001b[0;34m\u001b[0m\u001b[0m\n\u001b[0;32m--> 593\u001b[0;31m         use_multiprocessing=use_multiprocessing)\n\u001b[0m\u001b[1;32m    594\u001b[0m     \u001b[0mval_adapter\u001b[0m \u001b[0;34m=\u001b[0m \u001b[0;32mNone\u001b[0m\u001b[0;34m\u001b[0m\u001b[0;34m\u001b[0m\u001b[0m\n\u001b[1;32m    595\u001b[0m     \u001b[0;32mif\u001b[0m \u001b[0mvalidation_data\u001b[0m\u001b[0;34m:\u001b[0m\u001b[0;34m\u001b[0m\u001b[0;34m\u001b[0m\u001b[0m\n",
      "\u001b[0;32m~/anaconda3/lib/python3.7/site-packages/tensorflow_core/python/keras/engine/training_v2.py\u001b[0m in \u001b[0;36m_process_inputs\u001b[0;34m(model, mode, x, y, batch_size, epochs, sample_weights, class_weights, shuffle, steps, distribution_strategy, max_queue_size, workers, use_multiprocessing)\u001b[0m\n\u001b[1;32m    704\u001b[0m       \u001b[0mmax_queue_size\u001b[0m\u001b[0;34m=\u001b[0m\u001b[0mmax_queue_size\u001b[0m\u001b[0;34m,\u001b[0m\u001b[0;34m\u001b[0m\u001b[0;34m\u001b[0m\u001b[0m\n\u001b[1;32m    705\u001b[0m       \u001b[0mworkers\u001b[0m\u001b[0;34m=\u001b[0m\u001b[0mworkers\u001b[0m\u001b[0;34m,\u001b[0m\u001b[0;34m\u001b[0m\u001b[0;34m\u001b[0m\u001b[0m\n\u001b[0;32m--> 706\u001b[0;31m       use_multiprocessing=use_multiprocessing)\n\u001b[0m\u001b[1;32m    707\u001b[0m \u001b[0;34m\u001b[0m\u001b[0m\n\u001b[1;32m    708\u001b[0m   \u001b[0;32mreturn\u001b[0m \u001b[0madapter\u001b[0m\u001b[0;34m\u001b[0m\u001b[0;34m\u001b[0m\u001b[0m\n",
      "\u001b[0;32m~/anaconda3/lib/python3.7/site-packages/tensorflow_core/python/keras/engine/data_adapter.py\u001b[0m in \u001b[0;36m__init__\u001b[0;34m(self, x, y, sample_weights, sample_weight_modes, batch_size, epochs, steps, shuffle, **kwargs)\u001b[0m\n\u001b[1;32m    355\u001b[0m     \u001b[0mindices_dataset\u001b[0m \u001b[0;34m=\u001b[0m \u001b[0mindices_dataset\u001b[0m\u001b[0;34m.\u001b[0m\u001b[0mflat_map\u001b[0m\u001b[0;34m(\u001b[0m\u001b[0mslice_batch_indices\u001b[0m\u001b[0;34m)\u001b[0m\u001b[0;34m\u001b[0m\u001b[0;34m\u001b[0m\u001b[0m\n\u001b[1;32m    356\u001b[0m \u001b[0;34m\u001b[0m\u001b[0m\n\u001b[0;32m--> 357\u001b[0;31m     \u001b[0mdataset\u001b[0m \u001b[0;34m=\u001b[0m \u001b[0mself\u001b[0m\u001b[0;34m.\u001b[0m\u001b[0mslice_inputs\u001b[0m\u001b[0;34m(\u001b[0m\u001b[0mindices_dataset\u001b[0m\u001b[0;34m,\u001b[0m \u001b[0minputs\u001b[0m\u001b[0;34m)\u001b[0m\u001b[0;34m\u001b[0m\u001b[0;34m\u001b[0m\u001b[0m\n\u001b[0m\u001b[1;32m    358\u001b[0m \u001b[0;34m\u001b[0m\u001b[0m\n\u001b[1;32m    359\u001b[0m     \u001b[0;32mif\u001b[0m \u001b[0mshuffle\u001b[0m \u001b[0;34m==\u001b[0m \u001b[0;34m\"batch\"\u001b[0m\u001b[0;34m:\u001b[0m\u001b[0;34m\u001b[0m\u001b[0;34m\u001b[0m\u001b[0m\n",
      "\u001b[0;32m~/anaconda3/lib/python3.7/site-packages/tensorflow_core/python/keras/engine/data_adapter.py\u001b[0m in \u001b[0;36mslice_inputs\u001b[0;34m(self, indices_dataset, inputs)\u001b[0m\n\u001b[1;32m    381\u001b[0m     dataset = dataset_ops.DatasetV2.zip((\n\u001b[1;32m    382\u001b[0m         \u001b[0mindices_dataset\u001b[0m\u001b[0;34m,\u001b[0m\u001b[0;34m\u001b[0m\u001b[0;34m\u001b[0m\u001b[0m\n\u001b[0;32m--> 383\u001b[0;31m         \u001b[0mdataset_ops\u001b[0m\u001b[0;34m.\u001b[0m\u001b[0mDatasetV2\u001b[0m\u001b[0;34m.\u001b[0m\u001b[0mfrom_tensors\u001b[0m\u001b[0;34m(\u001b[0m\u001b[0minputs\u001b[0m\u001b[0;34m)\u001b[0m\u001b[0;34m.\u001b[0m\u001b[0mrepeat\u001b[0m\u001b[0;34m(\u001b[0m\u001b[0;34m)\u001b[0m\u001b[0;34m\u001b[0m\u001b[0;34m\u001b[0m\u001b[0m\n\u001b[0m\u001b[1;32m    384\u001b[0m     ))\n\u001b[1;32m    385\u001b[0m \u001b[0;34m\u001b[0m\u001b[0m\n",
      "\u001b[0;32m~/anaconda3/lib/python3.7/site-packages/tensorflow_core/python/data/ops/dataset_ops.py\u001b[0m in \u001b[0;36mfrom_tensors\u001b[0;34m(tensors)\u001b[0m\n\u001b[1;32m    564\u001b[0m       \u001b[0mDataset\u001b[0m\u001b[0;34m:\u001b[0m \u001b[0mA\u001b[0m\u001b[0;31m \u001b[0m\u001b[0;31m`\u001b[0m\u001b[0mDataset\u001b[0m\u001b[0;31m`\u001b[0m\u001b[0;34m.\u001b[0m\u001b[0;34m\u001b[0m\u001b[0;34m\u001b[0m\u001b[0m\n\u001b[1;32m    565\u001b[0m     \"\"\"\n\u001b[0;32m--> 566\u001b[0;31m     \u001b[0;32mreturn\u001b[0m \u001b[0mTensorDataset\u001b[0m\u001b[0;34m(\u001b[0m\u001b[0mtensors\u001b[0m\u001b[0;34m)\u001b[0m\u001b[0;34m\u001b[0m\u001b[0;34m\u001b[0m\u001b[0m\n\u001b[0m\u001b[1;32m    567\u001b[0m \u001b[0;34m\u001b[0m\u001b[0m\n\u001b[1;32m    568\u001b[0m   \u001b[0;34m@\u001b[0m\u001b[0mstaticmethod\u001b[0m\u001b[0;34m\u001b[0m\u001b[0;34m\u001b[0m\u001b[0m\n",
      "\u001b[0;32m~/anaconda3/lib/python3.7/site-packages/tensorflow_core/python/data/ops/dataset_ops.py\u001b[0m in \u001b[0;36m__init__\u001b[0;34m(self, element)\u001b[0m\n\u001b[1;32m   2763\u001b[0m   \u001b[0;32mdef\u001b[0m \u001b[0m__init__\u001b[0m\u001b[0;34m(\u001b[0m\u001b[0mself\u001b[0m\u001b[0;34m,\u001b[0m \u001b[0melement\u001b[0m\u001b[0;34m)\u001b[0m\u001b[0;34m:\u001b[0m\u001b[0;34m\u001b[0m\u001b[0;34m\u001b[0m\u001b[0m\n\u001b[1;32m   2764\u001b[0m     \u001b[0;34m\"\"\"See `Dataset.from_tensors()` for details.\"\"\"\u001b[0m\u001b[0;34m\u001b[0m\u001b[0;34m\u001b[0m\u001b[0m\n\u001b[0;32m-> 2765\u001b[0;31m     \u001b[0melement\u001b[0m \u001b[0;34m=\u001b[0m \u001b[0mstructure\u001b[0m\u001b[0;34m.\u001b[0m\u001b[0mnormalize_element\u001b[0m\u001b[0;34m(\u001b[0m\u001b[0melement\u001b[0m\u001b[0;34m)\u001b[0m\u001b[0;34m\u001b[0m\u001b[0;34m\u001b[0m\u001b[0m\n\u001b[0m\u001b[1;32m   2766\u001b[0m     \u001b[0mself\u001b[0m\u001b[0;34m.\u001b[0m\u001b[0m_structure\u001b[0m \u001b[0;34m=\u001b[0m \u001b[0mstructure\u001b[0m\u001b[0;34m.\u001b[0m\u001b[0mtype_spec_from_value\u001b[0m\u001b[0;34m(\u001b[0m\u001b[0melement\u001b[0m\u001b[0;34m)\u001b[0m\u001b[0;34m\u001b[0m\u001b[0;34m\u001b[0m\u001b[0m\n\u001b[1;32m   2767\u001b[0m     \u001b[0mself\u001b[0m\u001b[0;34m.\u001b[0m\u001b[0m_tensors\u001b[0m \u001b[0;34m=\u001b[0m \u001b[0mstructure\u001b[0m\u001b[0;34m.\u001b[0m\u001b[0mto_tensor_list\u001b[0m\u001b[0;34m(\u001b[0m\u001b[0mself\u001b[0m\u001b[0;34m.\u001b[0m\u001b[0m_structure\u001b[0m\u001b[0;34m,\u001b[0m \u001b[0melement\u001b[0m\u001b[0;34m)\u001b[0m\u001b[0;34m\u001b[0m\u001b[0;34m\u001b[0m\u001b[0m\n",
      "\u001b[0;32m~/anaconda3/lib/python3.7/site-packages/tensorflow_core/python/data/util/structure.py\u001b[0m in \u001b[0;36mnormalize_element\u001b[0;34m(element)\u001b[0m\n\u001b[1;32m    111\u001b[0m         \u001b[0;32melse\u001b[0m\u001b[0;34m:\u001b[0m\u001b[0;34m\u001b[0m\u001b[0;34m\u001b[0m\u001b[0m\n\u001b[1;32m    112\u001b[0m           normalized_components.append(\n\u001b[0;32m--> 113\u001b[0;31m               ops.convert_to_tensor(t, name=\"component_%d\" % i))\n\u001b[0m\u001b[1;32m    114\u001b[0m   \u001b[0;32mreturn\u001b[0m \u001b[0mnest\u001b[0m\u001b[0;34m.\u001b[0m\u001b[0mpack_sequence_as\u001b[0m\u001b[0;34m(\u001b[0m\u001b[0melement\u001b[0m\u001b[0;34m,\u001b[0m \u001b[0mnormalized_components\u001b[0m\u001b[0;34m)\u001b[0m\u001b[0;34m\u001b[0m\u001b[0;34m\u001b[0m\u001b[0m\n\u001b[1;32m    115\u001b[0m \u001b[0;34m\u001b[0m\u001b[0m\n",
      "\u001b[0;32m~/anaconda3/lib/python3.7/site-packages/tensorflow_core/python/framework/ops.py\u001b[0m in \u001b[0;36mconvert_to_tensor\u001b[0;34m(value, dtype, name, as_ref, preferred_dtype, dtype_hint, ctx, accepted_result_types)\u001b[0m\n\u001b[1;32m   1312\u001b[0m \u001b[0;34m\u001b[0m\u001b[0m\n\u001b[1;32m   1313\u001b[0m     \u001b[0;32mif\u001b[0m \u001b[0mret\u001b[0m \u001b[0;32mis\u001b[0m \u001b[0;32mNone\u001b[0m\u001b[0;34m:\u001b[0m\u001b[0;34m\u001b[0m\u001b[0;34m\u001b[0m\u001b[0m\n\u001b[0;32m-> 1314\u001b[0;31m       \u001b[0mret\u001b[0m \u001b[0;34m=\u001b[0m \u001b[0mconversion_func\u001b[0m\u001b[0;34m(\u001b[0m\u001b[0mvalue\u001b[0m\u001b[0;34m,\u001b[0m \u001b[0mdtype\u001b[0m\u001b[0;34m=\u001b[0m\u001b[0mdtype\u001b[0m\u001b[0;34m,\u001b[0m \u001b[0mname\u001b[0m\u001b[0;34m=\u001b[0m\u001b[0mname\u001b[0m\u001b[0;34m,\u001b[0m \u001b[0mas_ref\u001b[0m\u001b[0;34m=\u001b[0m\u001b[0mas_ref\u001b[0m\u001b[0;34m)\u001b[0m\u001b[0;34m\u001b[0m\u001b[0;34m\u001b[0m\u001b[0m\n\u001b[0m\u001b[1;32m   1315\u001b[0m \u001b[0;34m\u001b[0m\u001b[0m\n\u001b[1;32m   1316\u001b[0m     \u001b[0;32mif\u001b[0m \u001b[0mret\u001b[0m \u001b[0;32mis\u001b[0m \u001b[0mNotImplemented\u001b[0m\u001b[0;34m:\u001b[0m\u001b[0;34m\u001b[0m\u001b[0;34m\u001b[0m\u001b[0m\n",
      "\u001b[0;32m~/anaconda3/lib/python3.7/site-packages/tensorflow_core/python/framework/tensor_conversion_registry.py\u001b[0m in \u001b[0;36m_default_conversion_function\u001b[0;34m(***failed resolving arguments***)\u001b[0m\n\u001b[1;32m     50\u001b[0m \u001b[0;32mdef\u001b[0m \u001b[0m_default_conversion_function\u001b[0m\u001b[0;34m(\u001b[0m\u001b[0mvalue\u001b[0m\u001b[0;34m,\u001b[0m \u001b[0mdtype\u001b[0m\u001b[0;34m,\u001b[0m \u001b[0mname\u001b[0m\u001b[0;34m,\u001b[0m \u001b[0mas_ref\u001b[0m\u001b[0;34m)\u001b[0m\u001b[0;34m:\u001b[0m\u001b[0;34m\u001b[0m\u001b[0;34m\u001b[0m\u001b[0m\n\u001b[1;32m     51\u001b[0m   \u001b[0;32mdel\u001b[0m \u001b[0mas_ref\u001b[0m  \u001b[0;31m# Unused.\u001b[0m\u001b[0;34m\u001b[0m\u001b[0;34m\u001b[0m\u001b[0m\n\u001b[0;32m---> 52\u001b[0;31m   \u001b[0;32mreturn\u001b[0m \u001b[0mconstant_op\u001b[0m\u001b[0;34m.\u001b[0m\u001b[0mconstant\u001b[0m\u001b[0;34m(\u001b[0m\u001b[0mvalue\u001b[0m\u001b[0;34m,\u001b[0m \u001b[0mdtype\u001b[0m\u001b[0;34m,\u001b[0m \u001b[0mname\u001b[0m\u001b[0;34m=\u001b[0m\u001b[0mname\u001b[0m\u001b[0;34m)\u001b[0m\u001b[0;34m\u001b[0m\u001b[0;34m\u001b[0m\u001b[0m\n\u001b[0m\u001b[1;32m     53\u001b[0m \u001b[0;34m\u001b[0m\u001b[0m\n\u001b[1;32m     54\u001b[0m \u001b[0;34m\u001b[0m\u001b[0m\n",
      "\u001b[0;32m~/anaconda3/lib/python3.7/site-packages/tensorflow_core/python/framework/constant_op.py\u001b[0m in \u001b[0;36mconstant\u001b[0;34m(value, dtype, shape, name)\u001b[0m\n\u001b[1;32m    256\u001b[0m   \"\"\"\n\u001b[1;32m    257\u001b[0m   return _constant_impl(value, dtype, shape, name, verify_shape=False,\n\u001b[0;32m--> 258\u001b[0;31m                         allow_broadcast=True)\n\u001b[0m\u001b[1;32m    259\u001b[0m \u001b[0;34m\u001b[0m\u001b[0m\n\u001b[1;32m    260\u001b[0m \u001b[0;34m\u001b[0m\u001b[0m\n",
      "\u001b[0;32m~/anaconda3/lib/python3.7/site-packages/tensorflow_core/python/framework/constant_op.py\u001b[0m in \u001b[0;36m_constant_impl\u001b[0;34m(value, dtype, shape, name, verify_shape, allow_broadcast)\u001b[0m\n\u001b[1;32m    264\u001b[0m   \u001b[0mctx\u001b[0m \u001b[0;34m=\u001b[0m \u001b[0mcontext\u001b[0m\u001b[0;34m.\u001b[0m\u001b[0mcontext\u001b[0m\u001b[0;34m(\u001b[0m\u001b[0;34m)\u001b[0m\u001b[0;34m\u001b[0m\u001b[0;34m\u001b[0m\u001b[0m\n\u001b[1;32m    265\u001b[0m   \u001b[0;32mif\u001b[0m \u001b[0mctx\u001b[0m\u001b[0;34m.\u001b[0m\u001b[0mexecuting_eagerly\u001b[0m\u001b[0;34m(\u001b[0m\u001b[0;34m)\u001b[0m\u001b[0;34m:\u001b[0m\u001b[0;34m\u001b[0m\u001b[0;34m\u001b[0m\u001b[0m\n\u001b[0;32m--> 266\u001b[0;31m     \u001b[0mt\u001b[0m \u001b[0;34m=\u001b[0m \u001b[0mconvert_to_eager_tensor\u001b[0m\u001b[0;34m(\u001b[0m\u001b[0mvalue\u001b[0m\u001b[0;34m,\u001b[0m \u001b[0mctx\u001b[0m\u001b[0;34m,\u001b[0m \u001b[0mdtype\u001b[0m\u001b[0;34m)\u001b[0m\u001b[0;34m\u001b[0m\u001b[0;34m\u001b[0m\u001b[0m\n\u001b[0m\u001b[1;32m    267\u001b[0m     \u001b[0;32mif\u001b[0m \u001b[0mshape\u001b[0m \u001b[0;32mis\u001b[0m \u001b[0;32mNone\u001b[0m\u001b[0;34m:\u001b[0m\u001b[0;34m\u001b[0m\u001b[0;34m\u001b[0m\u001b[0m\n\u001b[1;32m    268\u001b[0m       \u001b[0;32mreturn\u001b[0m \u001b[0mt\u001b[0m\u001b[0;34m\u001b[0m\u001b[0;34m\u001b[0m\u001b[0m\n",
      "\u001b[0;32m~/anaconda3/lib/python3.7/site-packages/tensorflow_core/python/framework/constant_op.py\u001b[0m in \u001b[0;36mconvert_to_eager_tensor\u001b[0;34m(value, ctx, dtype)\u001b[0m\n\u001b[1;32m     94\u001b[0m       \u001b[0mdtype\u001b[0m \u001b[0;34m=\u001b[0m \u001b[0mdtypes\u001b[0m\u001b[0;34m.\u001b[0m\u001b[0mas_dtype\u001b[0m\u001b[0;34m(\u001b[0m\u001b[0mdtype\u001b[0m\u001b[0;34m)\u001b[0m\u001b[0;34m.\u001b[0m\u001b[0mas_datatype_enum\u001b[0m\u001b[0;34m\u001b[0m\u001b[0;34m\u001b[0m\u001b[0m\n\u001b[1;32m     95\u001b[0m   \u001b[0mctx\u001b[0m\u001b[0;34m.\u001b[0m\u001b[0mensure_initialized\u001b[0m\u001b[0;34m(\u001b[0m\u001b[0;34m)\u001b[0m\u001b[0;34m\u001b[0m\u001b[0;34m\u001b[0m\u001b[0m\n\u001b[0;32m---> 96\u001b[0;31m   \u001b[0;32mreturn\u001b[0m \u001b[0mops\u001b[0m\u001b[0;34m.\u001b[0m\u001b[0mEagerTensor\u001b[0m\u001b[0;34m(\u001b[0m\u001b[0mvalue\u001b[0m\u001b[0;34m,\u001b[0m \u001b[0mctx\u001b[0m\u001b[0;34m.\u001b[0m\u001b[0mdevice_name\u001b[0m\u001b[0;34m,\u001b[0m \u001b[0mdtype\u001b[0m\u001b[0;34m)\u001b[0m\u001b[0;34m\u001b[0m\u001b[0;34m\u001b[0m\u001b[0m\n\u001b[0m\u001b[1;32m     97\u001b[0m \u001b[0;34m\u001b[0m\u001b[0m\n\u001b[1;32m     98\u001b[0m \u001b[0;34m\u001b[0m\u001b[0m\n",
      "\u001b[0;31mKeyboardInterrupt\u001b[0m: "
     ]
    }
   ],
   "source": [
    "eval_model(simple, get_perceptron_m(simple), batch_size=simple.X_train.shape[0])"
   ]
  },
  {
   "cell_type": "code",
   "execution_count": null,
   "metadata": {
    "scrolled": true
   },
   "outputs": [],
   "source": [
    "eval_model(simple, two_layer_m)"
   ]
  },
  {
   "cell_type": "code",
   "execution_count": null,
   "metadata": {},
   "outputs": [],
   "source": [
    "eval_model(simple, four_layer_m)"
   ]
  },
  {
   "cell_type": "code",
   "execution_count": null,
   "metadata": {
    "scrolled": true
   },
   "outputs": [],
   "source": [
    "eval_model(simple, expdec_four_layer_m)"
   ]
  },
  {
   "cell_type": "code",
   "execution_count": null,
   "metadata": {
    "scrolled": true
   },
   "outputs": [],
   "source": [
    "eval_model(simple, expdec_three_layer_m)"
   ]
  },
  {
   "cell_type": "code",
   "execution_count": null,
   "metadata": {},
   "outputs": [],
   "source": [
    "eval_model(simple, expdec_smallstart_three_layer_m) # Big overfit"
   ]
  },
  {
   "cell_type": "markdown",
   "metadata": {},
   "source": [
    "I tried straightforward testing on this dataset, including\n",
    "* A single perceptron\n",
    "* Densely connected 2 full-width layers\n",
    "* Densely connected 4 full-width layers (overfits)\n",
    "* Densely connected 4 layers with exponentially decreasing witdth\n",
    "* Densely connected 3 layers -=-\n",
    "* Densely connected 3 lyaers with exponentially decreasing width, but starting from smaller width in general\n",
    "\n",
    "Those were only tried with ReLu activation function.\n",
    "\n",
    "Learning rates turned out to be very important, so I switched from SGD to Adam optimizer, which uses an adaptive learning rate.\n",
    "\n",
    "Turns out that models with smaller numer of units perform better (but too little become prone to overfitting)\n",
    "\n",
    "A thing to try would be to better engineer features, so we have smaller number"
   ]
  },
  {
   "cell_type": "code",
   "execution_count": null,
   "metadata": {},
   "outputs": [],
   "source": [
    "compdiags = load_dataset(\"nn_compdiags_ds.csv\")"
   ]
  },
  {
   "cell_type": "code",
   "execution_count": null,
   "metadata": {
    "scrolled": true
   },
   "outputs": [],
   "source": [
    "eval_model(compdiags, get_perceptron_m(compdiags), batch_size=compdiags.X_train.shape[0])"
   ]
  },
  {
   "cell_type": "code",
   "execution_count": null,
   "metadata": {
    "scrolled": true
   },
   "outputs": [],
   "source": [
    "eval_model(compdiags, get_two_layer_m(compdiags))"
   ]
  },
  {
   "cell_type": "code",
   "execution_count": null,
   "metadata": {
    "scrolled": false
   },
   "outputs": [],
   "source": [
    "eval_model(compdiags, get_four_layer_m(compdiags))"
   ]
  },
  {
   "cell_type": "code",
   "execution_count": null,
   "metadata": {
    "scrolled": true
   },
   "outputs": [],
   "source": [
    "eval_model(compdiags, get_expdec_four_layer_m(compdiags))"
   ]
  },
  {
   "cell_type": "code",
   "execution_count": null,
   "metadata": {
    "scrolled": true
   },
   "outputs": [],
   "source": [
    "eval_model(compdiags, get_expdec_three_layer_m(compdiags))"
   ]
  },
  {
   "cell_type": "code",
   "execution_count": null,
   "metadata": {},
   "outputs": [],
   "source": [
    "eval_model(compdiags, get_expdec_smallstart_three_layer_m(compdiags))"
   ]
  },
  {
   "cell_type": "code",
   "execution_count": 15,
   "metadata": {},
   "outputs": [
    {
     "name": "stdout",
     "output_type": "stream",
     "text": [
      "Loading dataset from nn_compdiags_unscaled_ds.csv...\n",
      "Shape of dataset: (30248, 244)\n"
     ]
    }
   ],
   "source": [
    "unscaled = load_dataset(\"nn_compdiags_unscaled_ds.csv\")"
   ]
  },
  {
   "cell_type": "code",
   "execution_count": 24,
   "metadata": {
    "scrolled": true
   },
   "outputs": [
    {
     "name": "stdout",
     "output_type": "stream",
     "text": [
      "Train on 19358 samples, validate on 4840 samples\n",
      "19358/19358 [==============================] - 0s 9us/sample - loss: 32.8655 - val_loss: 33.2715\n",
      "Train on 19358 samples, validate on 4840 samples\n",
      "19358/19358 [==============================] - 0s 2us/sample - loss: 32.8059 - val_loss: 33.2257\n",
      "Train on 19358 samples, validate on 4840 samples\n",
      "19358/19358 [==============================] - 0s 2us/sample - loss: 32.7469 - val_loss: 33.1808\n",
      "Train on 19358 samples, validate on 4840 samples\n",
      "19358/19358 [==============================] - 0s 2us/sample - loss: 32.6887 - val_loss: 33.1365\n",
      "Train on 19358 samples, validate on 4840 samples\n",
      "19358/19358 [==============================] - 0s 3us/sample - loss: 32.6311 - val_loss: 33.0929\n",
      "Train on 19358 samples, validate on 4840 samples\n",
      "19358/19358 [==============================] - 0s 2us/sample - loss: 32.5742 - val_loss: 33.0498\n",
      "Train on 19358 samples, validate on 4840 samples\n",
      "19358/19358 [==============================] - 0s 2us/sample - loss: 32.5179 - val_loss: 33.0072\n",
      "Train on 19358 samples, validate on 4840 samples\n",
      "19358/19358 [==============================] - 0s 2us/sample - loss: 32.4624 - val_loss: 32.9652\n",
      "Train on 19358 samples, validate on 4840 samples\n",
      "19358/19358 [==============================] - 0s 2us/sample - loss: 32.4075 - val_loss: 32.9237\n",
      "Train on 19358 samples, validate on 4840 samples\n",
      "19358/19358 [==============================] - 0s 2us/sample - loss: 32.3533 - val_loss: 32.8827\n",
      "Train on 19358 samples, validate on 4840 samples\n",
      "19358/19358 [==============================] - 0s 2us/sample - loss: 32.2998 - val_loss: 32.8422\n",
      "Train on 19358 samples, validate on 4840 samples\n",
      "19358/19358 [==============================] - 0s 2us/sample - loss: 32.2469 - val_loss: 32.8024\n",
      "Train on 19358 samples, validate on 4840 samples\n",
      "19358/19358 [==============================] - 0s 2us/sample - loss: 32.1947 - val_loss: 32.7631\n",
      "Train on 19358 samples, validate on 4840 samples\n",
      "19358/19358 [==============================] - 0s 2us/sample - loss: 32.1431 - val_loss: 32.7244\n",
      "Train on 19358 samples, validate on 4840 samples\n",
      "19358/19358 [==============================] - 0s 1us/sample - loss: 32.0922 - val_loss: 32.6863\n",
      "Train on 19358 samples, validate on 4840 samples\n",
      "19358/19358 [==============================] - 0s 2us/sample - loss: 32.0420 - val_loss: 32.6487\n",
      "Train on 19358 samples, validate on 4840 samples\n",
      "19358/19358 [==============================] - 0s 2us/sample - loss: 31.9924 - val_loss: 32.6118\n",
      "Train on 19358 samples, validate on 4840 samples\n",
      "19358/19358 [==============================] - 0s 2us/sample - loss: 31.9434 - val_loss: 32.5755\n",
      "Train on 19358 samples, validate on 4840 samples\n",
      "19358/19358 [==============================] - 0s 2us/sample - loss: 31.8951 - val_loss: 32.5398\n",
      "Train on 19358 samples, validate on 4840 samples\n",
      "19358/19358 [==============================] - 0s 2us/sample - loss: 31.8474 - val_loss: 32.5048\n",
      "Train on 19358 samples, validate on 4840 samples\n",
      "19358/19358 [==============================] - 0s 2us/sample - loss: 31.8004 - val_loss: 32.4703\n",
      "Train on 19358 samples, validate on 4840 samples\n",
      "19358/19358 [==============================] - 0s 2us/sample - loss: 31.7540 - val_loss: 32.4366\n",
      "Train on 19358 samples, validate on 4840 samples\n",
      "19358/19358 [==============================] - 0s 2us/sample - loss: 31.7082 - val_loss: 32.4035\n",
      "Train on 19358 samples, validate on 4840 samples\n",
      "19358/19358 [==============================] - 0s 2us/sample - loss: 31.6631 - val_loss: 32.3710\n",
      "Train on 19358 samples, validate on 4840 samples\n",
      "19358/19358 [==============================] - 0s 1us/sample - loss: 31.6185 - val_loss: 32.3392\n",
      "Train on 19358 samples, validate on 4840 samples\n",
      "19358/19358 [==============================] - 0s 2us/sample - loss: 31.5746 - val_loss: 32.3080\n",
      "Train on 19358 samples, validate on 4840 samples\n",
      "19358/19358 [==============================] - 0s 2us/sample - loss: 31.5313 - val_loss: 32.2774\n",
      "Train on 19358 samples, validate on 4840 samples\n",
      "19358/19358 [==============================] - 0s 1us/sample - loss: 31.4886 - val_loss: 32.2473\n",
      "Train on 19358 samples, validate on 4840 samples\n",
      "19358/19358 [==============================] - 0s 2us/sample - loss: 31.4464 - val_loss: 32.2179\n",
      "Train on 19358 samples, validate on 4840 samples\n",
      "19358/19358 [==============================] - 0s 2us/sample - loss: 31.4049 - val_loss: 32.1890\n",
      "Train on 19358 samples, validate on 4840 samples\n",
      "19358/19358 [==============================] - 0s 2us/sample - loss: 31.3639 - val_loss: 32.1607\n",
      "Train on 19358 samples, validate on 4840 samples\n",
      "19358/19358 [==============================] - 0s 2us/sample - loss: 31.3235 - val_loss: 32.1329\n",
      "Train on 19358 samples, validate on 4840 samples\n",
      "19358/19358 [==============================] - 0s 2us/sample - loss: 31.2837 - val_loss: 32.1057\n",
      "Train on 19358 samples, validate on 4840 samples\n",
      "19358/19358 [==============================] - 0s 2us/sample - loss: 31.2444 - val_loss: 32.0790\n",
      "Train on 19358 samples, validate on 4840 samples\n",
      "19358/19358 [==============================] - 0s 2us/sample - loss: 31.2056 - val_loss: 32.0527\n",
      "Train on 19358 samples, validate on 4840 samples\n",
      "19358/19358 [==============================] - 0s 2us/sample - loss: 31.1674 - val_loss: 32.0270\n",
      "Train on 19358 samples, validate on 4840 samples\n",
      "19358/19358 [==============================] - 0s 2us/sample - loss: 31.1297 - val_loss: 32.0016\n",
      "Train on 19358 samples, validate on 4840 samples\n",
      "19358/19358 [==============================] - 0s 2us/sample - loss: 31.0926 - val_loss: 31.9768\n",
      "Train on 19358 samples, validate on 4840 samples\n",
      "19358/19358 [==============================] - 0s 2us/sample - loss: 31.0559 - val_loss: 31.9524\n",
      "Train on 19358 samples, validate on 4840 samples\n",
      "19358/19358 [==============================] - 0s 2us/sample - loss: 31.0198 - val_loss: 31.9284\n",
      "Train on 19358 samples, validate on 4840 samples\n",
      "19358/19358 [==============================] - 0s 2us/sample - loss: 30.9841 - val_loss: 31.9048\n",
      "Train on 19358 samples, validate on 4840 samples\n",
      "19358/19358 [==============================] - 0s 2us/sample - loss: 30.9490 - val_loss: 31.8817\n",
      "Train on 19358 samples, validate on 4840 samples\n",
      "19358/19358 [==============================] - 0s 2us/sample - loss: 30.9143 - val_loss: 31.8589\n",
      "Train on 19358 samples, validate on 4840 samples\n",
      "19358/19358 [==============================] - 0s 2us/sample - loss: 30.8801 - val_loss: 31.8365\n",
      "Train on 19358 samples, validate on 4840 samples\n",
      "19358/19358 [==============================] - 0s 2us/sample - loss: 30.8463 - val_loss: 31.8146\n",
      "Train on 19358 samples, validate on 4840 samples\n",
      "19358/19358 [==============================] - 0s 2us/sample - loss: 30.8130 - val_loss: 31.7930\n",
      "Train on 19358 samples, validate on 4840 samples\n",
      "19358/19358 [==============================] - 0s 2us/sample - loss: 30.7801 - val_loss: 31.7718\n",
      "Train on 19358 samples, validate on 4840 samples\n",
      "19358/19358 [==============================] - 0s 2us/sample - loss: 30.7477 - val_loss: 31.7510\n",
      "Train on 19358 samples, validate on 4840 samples\n",
      "19358/19358 [==============================] - 0s 2us/sample - loss: 30.7157 - val_loss: 31.7306\n",
      "Train on 19358 samples, validate on 4840 samples\n",
      "19358/19358 [==============================] - 0s 2us/sample - loss: 30.6842 - val_loss: 31.7106\n",
      "Train on 19358 samples, validate on 4840 samples\n",
      "19358/19358 [==============================] - 0s 2us/sample - loss: 30.6530 - val_loss: 31.6910\n",
      "Train on 19358 samples, validate on 4840 samples\n",
      "19358/19358 [==============================] - 0s 2us/sample - loss: 30.6223 - val_loss: 31.6718\n",
      "Train on 19358 samples, validate on 4840 samples\n",
      "19358/19358 [==============================] - 0s 2us/sample - loss: 30.5919 - val_loss: 31.6529\n",
      "Train on 19358 samples, validate on 4840 samples\n",
      "19358/19358 [==============================] - 0s 2us/sample - loss: 30.5620 - val_loss: 31.6345\n",
      "Train on 19358 samples, validate on 4840 samples\n",
      "19358/19358 [==============================] - 0s 2us/sample - loss: 30.5324 - val_loss: 31.6164\n",
      "Train on 19358 samples, validate on 4840 samples\n",
      "19358/19358 [==============================] - 0s 4us/sample - loss: 30.5032 - val_loss: 31.5987\n",
      "Train on 19358 samples, validate on 4840 samples\n",
      "19358/19358 [==============================] - 0s 2us/sample - loss: 30.4744 - val_loss: 31.5813\n"
     ]
    },
    {
     "name": "stdout",
     "output_type": "stream",
     "text": [
      "Train on 19358 samples, validate on 4840 samples\n",
      "19358/19358 [==============================] - 0s 2us/sample - loss: 30.4459 - val_loss: 31.5643\n",
      "Train on 19358 samples, validate on 4840 samples\n",
      "19358/19358 [==============================] - 0s 3us/sample - loss: 30.4179 - val_loss: 31.5476\n",
      "Train on 19358 samples, validate on 4840 samples\n",
      "19358/19358 [==============================] - 0s 2us/sample - loss: 30.3901 - val_loss: 31.5313\n",
      "Train on 19358 samples, validate on 4840 samples\n",
      "19358/19358 [==============================] - 0s 2us/sample - loss: 30.3627 - val_loss: 31.5153\n",
      "Train on 19358 samples, validate on 4840 samples\n",
      "19358/19358 [==============================] - 0s 2us/sample - loss: 30.3356 - val_loss: 31.4996\n",
      "Train on 19358 samples, validate on 4840 samples\n",
      "19358/19358 [==============================] - 0s 2us/sample - loss: 30.3089 - val_loss: 31.4843\n",
      "Train on 19358 samples, validate on 4840 samples\n",
      "19358/19358 [==============================] - 0s 2us/sample - loss: 30.2824 - val_loss: 31.4692\n",
      "Train on 19358 samples, validate on 4840 samples\n",
      "19358/19358 [==============================] - 0s 2us/sample - loss: 30.2563 - val_loss: 31.4545\n",
      "Train on 19358 samples, validate on 4840 samples\n",
      "19358/19358 [==============================] - 0s 2us/sample - loss: 30.2306 - val_loss: 31.4401\n",
      "Train on 19358 samples, validate on 4840 samples\n",
      "19358/19358 [==============================] - 0s 2us/sample - loss: 30.2051 - val_loss: 31.4259\n",
      "Train on 19358 samples, validate on 4840 samples\n",
      "19358/19358 [==============================] - 0s 2us/sample - loss: 30.1799 - val_loss: 31.4121\n",
      "Train on 19358 samples, validate on 4840 samples\n",
      "19358/19358 [==============================] - 0s 2us/sample - loss: 30.1550 - val_loss: 31.3985\n",
      "Train on 19358 samples, validate on 4840 samples\n",
      "19358/19358 [==============================] - 0s 2us/sample - loss: 30.1304 - val_loss: 31.3852\n",
      "Train on 19358 samples, validate on 4840 samples\n",
      "19358/19358 [==============================] - 0s 2us/sample - loss: 30.1061 - val_loss: 31.3721\n",
      "Train on 19358 samples, validate on 4840 samples\n",
      "19358/19358 [==============================] - 0s 2us/sample - loss: 30.0820 - val_loss: 31.3593\n",
      "Train on 19358 samples, validate on 4840 samples\n",
      "19358/19358 [==============================] - 0s 2us/sample - loss: 30.0582 - val_loss: 31.3468\n",
      "Train on 19358 samples, validate on 4840 samples\n",
      "19358/19358 [==============================] - 0s 2us/sample - loss: 30.0347 - val_loss: 31.3345\n",
      "Train on 19358 samples, validate on 4840 samples\n",
      "19358/19358 [==============================] - 0s 2us/sample - loss: 30.0115 - val_loss: 31.3224\n",
      "Train on 19358 samples, validate on 4840 samples\n",
      "19358/19358 [==============================] - 0s 2us/sample - loss: 29.9885 - val_loss: 31.3107\n",
      "Train on 19358 samples, validate on 4840 samples\n",
      "19358/19358 [==============================] - 0s 2us/sample - loss: 29.9658 - val_loss: 31.2991\n",
      "Train on 19358 samples, validate on 4840 samples\n",
      "19358/19358 [==============================] - 0s 2us/sample - loss: 29.9433 - val_loss: 31.2878\n",
      "Train on 19358 samples, validate on 4840 samples\n",
      "19358/19358 [==============================] - 0s 2us/sample - loss: 29.9211 - val_loss: 31.2768\n",
      "Train on 19358 samples, validate on 4840 samples\n",
      "19358/19358 [==============================] - 0s 2us/sample - loss: 29.8991 - val_loss: 31.2659\n",
      "Train on 19358 samples, validate on 4840 samples\n",
      "19358/19358 [==============================] - 0s 2us/sample - loss: 29.8773 - val_loss: 31.2553\n",
      "Train on 19358 samples, validate on 4840 samples\n",
      "19358/19358 [==============================] - 0s 2us/sample - loss: 29.8558 - val_loss: 31.2449\n",
      "Train on 19358 samples, validate on 4840 samples\n",
      "19358/19358 [==============================] - 0s 2us/sample - loss: 29.8345 - val_loss: 31.2347\n",
      "Train on 19358 samples, validate on 4840 samples\n",
      "19358/19358 [==============================] - 0s 2us/sample - loss: 29.8134 - val_loss: 31.2248\n",
      "Train on 19358 samples, validate on 4840 samples\n",
      "19358/19358 [==============================] - 0s 2us/sample - loss: 29.7925 - val_loss: 31.2150\n",
      "Train on 19358 samples, validate on 4840 samples\n",
      "19358/19358 [==============================] - 0s 2us/sample - loss: 29.7718 - val_loss: 31.2055\n",
      "Train on 19358 samples, validate on 4840 samples\n",
      "19358/19358 [==============================] - 0s 2us/sample - loss: 29.7514 - val_loss: 31.1961\n",
      "Train on 19358 samples, validate on 4840 samples\n",
      "19358/19358 [==============================] - 0s 2us/sample - loss: 29.7311 - val_loss: 31.1870\n",
      "Train on 19358 samples, validate on 4840 samples\n",
      "19358/19358 [==============================] - 0s 2us/sample - loss: 29.7111 - val_loss: 31.1780\n",
      "Train on 19358 samples, validate on 4840 samples\n",
      "19358/19358 [==============================] - 0s 2us/sample - loss: 29.6912 - val_loss: 31.1692\n",
      "Train on 19358 samples, validate on 4840 samples\n",
      "19358/19358 [==============================] - 0s 2us/sample - loss: 29.6716 - val_loss: 31.1607\n",
      "Train on 19358 samples, validate on 4840 samples\n",
      "19358/19358 [==============================] - 0s 2us/sample - loss: 29.6521 - val_loss: 31.1523\n",
      "Train on 19358 samples, validate on 4840 samples\n",
      "19358/19358 [==============================] - 0s 2us/sample - loss: 29.6328 - val_loss: 31.1441\n",
      "Train on 19358 samples, validate on 4840 samples\n",
      "19358/19358 [==============================] - 0s 2us/sample - loss: 29.6137 - val_loss: 31.1360\n",
      "Train on 19358 samples, validate on 4840 samples\n",
      "19358/19358 [==============================] - 0s 2us/sample - loss: 29.5948 - val_loss: 31.1282\n",
      "Train on 19358 samples, validate on 4840 samples\n",
      "19358/19358 [==============================] - 0s 2us/sample - loss: 29.5761 - val_loss: 31.1205\n",
      "Trained model on 96 epochs for time 10.069100141525269 secs (9.5341191020728 epochs in second)\n",
      "Loss history:\n"
     ]
    },
    {
     "data": {
      "text/plain": [
       "'mean squared error: 31.12052517075079'"
      ]
     },
     "execution_count": 24,
     "metadata": {},
     "output_type": "execute_result"
    },
    {
     "data": {
      "image/png": "[encoded data removed]",
      "text/plain": [
       "<Figure size 432x288 with 1 Axes>"
      ]
     },
     "metadata": {
      "needs_background": "light"
     },
     "output_type": "display_data"
    }
   ],
   "source": [
    "eval_model(unscaled, get_perceptron_m(unscaled), batch_size=unscaled.X_train.shape[0])"
   ]
  },
  {
   "cell_type": "code",
   "execution_count": 26,
   "metadata": {
    "scrolled": true
   },
   "outputs": [
    {
     "name": "stdout",
     "output_type": "stream",
     "text": [
      "Train on 19358 samples, validate on 4840 samples\n",
      "19358/19358 [==============================] - 3s 163us/sample - loss: 10.3204 - val_loss: 11.0353\n",
      "Train on 19358 samples, validate on 4840 samples\n",
      "19358/19358 [==============================] - 3s 154us/sample - loss: 9.2846 - val_loss: 15.1437\n",
      "Train on 19358 samples, validate on 4840 samples\n",
      "19358/19358 [==============================] - 3s 154us/sample - loss: 8.9928 - val_loss: 9.3046\n",
      "Train on 19358 samples, validate on 4840 samples\n",
      "19358/19358 [==============================] - 3s 157us/sample - loss: 8.5999 - val_loss: 10.8023\n",
      "Trained model on 4 epochs for time 12.394458770751953 secs (0.3227248622940335 epochs in second)\n",
      "Loss history:\n"
     ]
    },
    {
     "data": {
      "text/plain": [
       "'mean squared error: 10.802309365041085'"
      ]
     },
     "execution_count": 26,
     "metadata": {},
     "output_type": "execute_result"
    },
    {
     "data": {
      "image/png": "[encoded data removed]",
      "text/plain": [
       "<Figure size 432x288 with 1 Axes>"
      ]
     },
     "metadata": {
      "needs_background": "light"
     },
     "output_type": "display_data"
    }
   ],
   "source": [
    "eval_model(unscaled, get_two_layer_m(unscaled))\n"
   ]
  },
  {
   "cell_type": "code",
   "execution_count": null,
   "metadata": {},
   "outputs": [],
   "source": [
    "eval_model(unscaled, get_four_layer_m(unscaled))"
   ]
  },
  {
   "cell_type": "code",
   "execution_count": null,
   "metadata": {
    "scrolled": true
   },
   "outputs": [],
   "source": [
    "eval_model(unscaled, get_expdec_three_layer_m(unscaled))"
   ]
  },
  {
   "cell_type": "code",
   "execution_count": null,
   "metadata": {},
   "outputs": [],
   "source": [
    "eval_model(unscaled, get_expdec_three_layer_m(unscaled), batch_size=unscaled.X_train.shape[0])"
   ]
  },
  {
   "cell_type": "code",
   "execution_count": null,
   "metadata": {
    "scrolled": true
   },
   "outputs": [],
   "source": [
    "eval_model(unscaled, get_expdec_three_layer_m(unscaled), batch_size=64)"
   ]
  },
  {
   "cell_type": "markdown",
   "metadata": {},
   "source": [
    "Trying another model ..."
   ]
  },
  {
   "cell_type": "code",
   "execution_count": null,
   "metadata": {},
   "outputs": [],
   "source": [
    "eval_model(unscaled, get_three_layer_m(unscaled), batch_size=unscaled.X_test.shape[0])"
   ]
  },
  {
   "cell_type": "code",
   "execution_count": null,
   "metadata": {},
   "outputs": [],
   "source": [
    "eval_model(unscaled, get_three_layer_m(unscaled), batch_size=32)"
   ]
  },
  {
   "cell_type": "code",
   "execution_count": null,
   "metadata": {},
   "outputs": [],
   "source": [
    "eval_model(unscaled, get_three_layer_m(unscaled), batch_size=64)"
   ]
  },
  {
   "cell_type": "markdown",
   "metadata": {},
   "source": [
    "## Poisson stuff"
   ]
  },
  {
   "cell_type": "code",
   "execution_count": null,
   "metadata": {},
   "outputs": [],
   "source": [
    "def tf_fact(tensor):\n",
    "    return tf.exp(tf.math.lgamma(tensor + 1.))"
   ]
  },
  {
   "cell_type": "code",
   "execution_count": null,
   "metadata": {},
   "outputs": [],
   "source": [
    "from scipy.stats import poisson\n",
    "\n",
    "def my_poisson_loss(y_actual, y_predicted):\n",
    "    lmbd = tf.keras.backend.cast(y_predicted, tf.keras.backend.floatx())\n",
    "    k = tf.keras.backend.cast(y_actual, tf.keras.backend.floatx())\n",
    "    return lmbd - k*tf.math.log(1 + lmbd)\n",
    "\n",
    "def get_my_poisson_twol_m(dataset):\n",
    "    my_poisson_twol_m = tf.keras.Sequential([\n",
    "        tf.keras.layers.Dense(simple.X_train.shape[1], input_shape=(dataset.X_train.shape[1],), activation='relu'),\n",
    "        tf.keras.layers.Dense(1, activation='relu')\n",
    "    ])\n",
    "    my_poisson_twol_m.compile(optimizer=tf.keras.optimizers.Adam(), loss=my_poisson_loss)\n",
    "    \n",
    "    return my_poisson_twol_m\n",
    "\n",
    "def get_poisson_twol_m(dataset):\n",
    "    poisson_twol_m = tf.keras.Sequential([\n",
    "        tf.keras.layers.Dense(simple.X_train.shape[1], input_shape=(dataset.X_train.shape[1],), activation='relu'),\n",
    "        tf.keras.layers.Dense(1, activation='relu')\n",
    "    ])\n",
    "    poisson_twol_m.compile(optimizer=tf.keras.optimizers.Adam(), loss='poisson')\n",
    "    \n",
    "    return poisson_twol_m\n",
    "\n",
    "def get_poisson_expdec_threel_m(dataset):\n",
    "    poisson_expdec_threel_m = tf.keras.Sequential([\n",
    "        tf.keras.layers.Dense(simple.X_train.shape[1], input_shape=(dataset.X_train.shape[1],), activation='relu'),\n",
    "        tf.keras.layers.Dense(simple.X_train.shape[1]**(1/2), activation='relu'),\n",
    "        tf.keras.layers.Dense(1)\n",
    "    ])\n",
    "    poisson_expdec_threel_m.compile(optimizer=tf.keras.optimizers.Adam(), loss='poisson')\n",
    "    \n",
    "    return poisson_expdec_threel_m\n",
    "\n",
    "def get_my_poisson_expdec_threel_m(dataset):\n",
    "    my_poisson_expdec_threel_m = tf.keras.Sequential([\n",
    "        tf.keras.layers.Dense(simple.X_train.shape[1], input_shape=(dataset.X_train.shape[1],), activation='relu'),\n",
    "        tf.keras.layers.Dense(simple.X_train.shape[1]**(1/2), activation='relu'),\n",
    "        tf.keras.layers.Dense(1)\n",
    "    ])\n",
    "    my_poisson_expdec_threel_m.compile(optimizer=tf.keras.optimizers.Adam(), loss=my_poisson_loss)\n",
    "    \n",
    "    return my_poisson_expdec_threel_m"
   ]
  },
  {
   "cell_type": "code",
   "execution_count": null,
   "metadata": {
    "scrolled": true
   },
   "outputs": [],
   "source": [
    "eval_model(unscaled, get_poisson_twol_m(unscaled), batch_size=unscaled.X_test.shape[0])"
   ]
  },
  {
   "cell_type": "code",
   "execution_count": null,
   "metadata": {
    "scrolled": true
   },
   "outputs": [],
   "source": [
    "eval_model(unscaled, get_poisson_expdec_threel_m(unscaled))"
   ]
  },
  {
   "cell_type": "code",
   "execution_count": null,
   "metadata": {},
   "outputs": [],
   "source": [
    "eval_model(unscaled, get_poisson_expdec_threel_m(unscaled), batch_size=32)"
   ]
  },
  {
   "cell_type": "markdown",
   "metadata": {},
   "source": [
    "## Scaled on poisson"
   ]
  },
  {
   "cell_type": "code",
   "execution_count": null,
   "metadata": {
    "scrolled": true
   },
   "outputs": [],
   "source": [
    "eval_model(compdiags, get_poisson_expdec_threel_m(compdiags), batch_size=compdiags.X_train.shape[0])"
   ]
  },
  {
   "cell_type": "markdown",
   "metadata": {},
   "source": [
    "## My custom poisson"
   ]
  },
  {
   "cell_type": "code",
   "execution_count": null,
   "metadata": {
    "scrolled": true
   },
   "outputs": [],
   "source": [
    "eval_model(unscaled, get_my_poisson_twol_m(unscaled))"
   ]
  },
  {
   "cell_type": "code",
   "execution_count": null,
   "metadata": {},
   "outputs": [],
   "source": [
    "eval_model(unscaled, get_poisson_twol_m(unscaled))"
   ]
  },
  {
   "cell_type": "markdown",
   "metadata": {},
   "source": [
    "## Plotting noise in labels"
   ]
  },
  {
   "cell_type": "code",
   "execution_count": 32,
   "metadata": {},
   "outputs": [],
   "source": [
    "def get_custom_twol_m(dataset, loss):\n",
    "    poisson_twol_m = tf.keras.Sequential([\n",
    "        tf.keras.layers.Dense(simple.X_train.shape[1], input_shape=(dataset.X_train.shape[1],), activation='relu'),\n",
    "        tf.keras.layers.Dense(1, activation='relu')\n",
    "    ])\n",
    "    poisson_twol_m.compile(optimizer=tf.keras.optimizers.Adam(), loss=loss)\n",
    "    \n",
    "    return poisson_twol_m"
   ]
  },
  {
   "cell_type": "code",
   "execution_count": 68,
   "metadata": {},
   "outputs": [],
   "source": [
    "def get_diffs_distr(df, model, axis, loss):\n",
    "    last = 2**20\n",
    "    while True:\n",
    "        cur = model.fit(df.X_train, df.y_train,  \n",
    "                        validation_data=(df.X_dev, df.y_dev)).history['val_loss']\n",
    "        print(f\"Last loss: {last}, cur loss: {cur}\")\n",
    "        if cur[0] > last:\n",
    "            print(\"Stopping...\")\n",
    "            break\n",
    "        \n",
    "        last = cur\n",
    "    \n",
    "    preds = model.predict(df.X_dev)\n",
    "    difs = preds[:, 0] - df.y_dev\n",
    "    \n",
    "    axis.set_title(loss)\n",
    "    axis.hist(difs, bins = 40, range=(-20, 20))\n",
    "#     plt.plot()\n",
    "    \n",
    "    return difs"
   ]
  },
  {
   "cell_type": "code",
   "execution_count": 74,
   "metadata": {},
   "outputs": [
    {
     "name": "stdout",
     "output_type": "stream",
     "text": [
      "Train on 19358 samples, validate on 4840 samples\n",
      "19358/19358 [==============================] - 3s 178us/sample - loss: 9.8943 - val_loss: 9.6259\n",
      "Last loss: 1048576, cur loss: [9.62594566660479]\n",
      "Train on 19358 samples, validate on 4840 samples\n",
      "19358/19358 [==============================] - 3s 153us/sample - loss: 8.8169 - val_loss: 9.8710\n",
      "Last loss: [9.62594566660479], cur loss: [9.870987913234174]\n",
      "Stopping...\n",
      "Train on 19358 samples, validate on 4840 samples\n",
      "19358/19358 [==============================] - 3s 168us/sample - loss: -1.9006 - val_loss: -2.1684\n",
      "Last loss: 1048576, cur loss: [-2.1683755883500595]\n",
      "Train on 19358 samples, validate on 4840 samples\n",
      "19358/19358 [==============================] - 3s 160us/sample - loss: -2.2817 - val_loss: -2.3179\n",
      "Last loss: [-2.1683755883500595], cur loss: [-2.317947137010984]\n",
      "Train on 19358 samples, validate on 4840 samples\n",
      "19358/19358 [==============================] - 3s 143us/sample - loss: -2.3312 - val_loss: -2.3245\n",
      "Last loss: [-2.317947137010984], cur loss: [-2.324472119985533]\n",
      "Train on 19358 samples, validate on 4840 samples\n",
      "19358/19358 [==============================] - 3s 173us/sample - loss: -2.3396 - val_loss: -2.2054\n",
      "Last loss: [-2.324472119985533], cur loss: [-2.2054165522914286]\n",
      "Stopping...\n",
      "Train on 19358 samples, validate on 4840 samples\n",
      "19358/19358 [==============================] - 3s 174us/sample - loss: 2.4200 - val_loss: 2.3594\n",
      "Last loss: 1048576, cur loss: [2.3593555868164566]\n",
      "Train on 19358 samples, validate on 4840 samples\n",
      "19358/19358 [==============================] - 3s 134us/sample - loss: 2.2869 - val_loss: 2.3535\n",
      "Last loss: [2.3593555868164566], cur loss: [2.353498123894053]\n",
      "Train on 19358 samples, validate on 4840 samples\n",
      "19358/19358 [==============================] - 3s 141us/sample - loss: 2.2452 - val_loss: 2.3658\n",
      "Last loss: [2.353498123894053], cur loss: [2.365774624603839]\n",
      "Stopping...\n",
      "Train on 19358 samples, validate on 4840 samples\n",
      "19358/19358 [==============================] - 3s 148us/sample - loss: 0.3244 - val_loss: 0.2851\n",
      "Last loss: 1048576, cur loss: [0.2850959517615886]\n",
      "Train on 19358 samples, validate on 4840 samples\n",
      "19358/19358 [==============================] - 3s 175us/sample - loss: 0.2690 - val_loss: 0.2921\n",
      "Last loss: [0.2850959517615886], cur loss: [0.29207176391250833]\n",
      "Stopping...\n"
     ]
    },
    {
     "name": "stderr",
     "output_type": "stream",
     "text": [
      "/home/simeon/anaconda3/lib/python3.7/site-packages/ipykernel_launcher.py:9: UserWarning: Matplotlib is currently using module://ipykernel.pylab.backend_inline, which is a non-GUI backend, so cannot show the figure.\n",
      "  if __name__ == '__main__':\n"
     ]
    },
    {
     "data": {
      "image/png": "[encoded data removed]",
      "text/plain": [
       "<Figure size 1080x360 with 4 Axes>"
      ]
     },
     "metadata": {
      "needs_background": "light"
     },
     "output_type": "display_data"
    }
   ],
   "source": [
    "losses = ['mean_squared_error', 'poisson', 'mean_absolute_error', 'mean_squared_logarithmic_error']\n",
    "rows = 1\n",
    "fig, axes = plt.subplots(rows, len(losses) // rows, figsize=(15, 5))\n",
    "\n",
    "for i, loss in zip(range(len(losses)), losses):\n",
    "    get_diffs_distr(unscaled, get_custom_twol_m(unscaled, loss), axes[i], loss)\n",
    "\n",
    "fig.savefig('loss_distribution.png')\n",
    "fig.show()"
   ]
  },
  {
   "cell_type": "code",
   "execution_count": 54,
   "metadata": {},
   "outputs": [
    {
     "name": "stdout",
     "output_type": "stream",
     "text": [
      "Train on 19358 samples, validate on 4840 samples\n",
      "19358/19358 [==============================] - 4s 186us/sample - loss: -1.5800 - val_loss: -2.2886\n",
      "Last loss: 1048576, cur loss: [-2.288649065336905]\n",
      "Train on 19358 samples, validate on 4840 samples\n",
      "19358/19358 [==============================] - 3s 166us/sample - loss: -2.2686 - val_loss: -2.4065\n",
      "Last loss: [-2.288649065336905], cur loss: [-2.4064770728103384]\n",
      "Train on 19358 samples, validate on 4840 samples\n",
      "19358/19358 [==============================] - 3s 152us/sample - loss: -2.3532 - val_loss: -2.3809\n",
      "Last loss: [-2.4064770728103384], cur loss: [-2.3809062762201325]\n",
      "Stopping...\n"
     ]
    },
    {
     "data": {
      "text/plain": [
       "array([ 1.37230015,  0.26045752, -4.18259168, ...,  0.89172935,\n",
       "        2.50159311,  1.94000769])"
      ]
     },
     "execution_count": 54,
     "metadata": {},
     "output_type": "execute_result"
    },
    {
     "data": {
      "image/png": "[encoded data removed]",
      "text/plain": [
       "<Figure size 432x288 with 1 Axes>"
      ]
     },
     "metadata": {
      "needs_background": "light"
     },
     "output_type": "display_data"
    }
   ],
   "source": [
    "get_diffs_distr(unscaled, get_custom_twol_m(unscaled, 'poisson'))"
   ]
  },
  {
   "cell_type": "code",
   "execution_count": 55,
   "metadata": {},
   "outputs": [
    {
     "name": "stdout",
     "output_type": "stream",
     "text": [
      "Train on 19358 samples, validate on 4840 samples\n",
      "19358/19358 [==============================] - 4s 213us/sample - loss: 2.4072 - val_loss: 2.3567\n",
      "Last loss: 1048576, cur loss: [2.3567440336400813]\n",
      "Train on 19358 samples, validate on 4840 samples\n",
      "19358/19358 [==============================] - 3s 181us/sample - loss: 2.2939 - val_loss: 2.3658\n",
      "Last loss: [2.3567440336400813], cur loss: [2.3657718737263327]\n",
      "Stopping...\n"
     ]
    },
    {
     "data": {
      "text/plain": [
       "array([ 1.11322403, -0.5717783 , -4.6657455 , ...,  0.85492873,\n",
       "        1.49586201,  0.95352936])"
      ]
     },
     "execution_count": 55,
     "metadata": {},
     "output_type": "execute_result"
    },
    {
     "data": {
      "image/png": "[encoded data removed]",
      "text/plain": [
       "<Figure size 432x288 with 1 Axes>"
      ]
     },
     "metadata": {
      "needs_background": "light"
     },
     "output_type": "display_data"
    }
   ],
   "source": [
    "get_diffs_distr(unscaled, get_poisson_twol_m(unscaled, 'mean_absolute_error'))"
   ]
  },
  {
   "cell_type": "code",
   "execution_count": 56,
   "metadata": {},
   "outputs": [
    {
     "name": "stdout",
     "output_type": "stream",
     "text": [
      "Train on 19358 samples, validate on 4840 samples\n",
      "19358/19358 [==============================] - 4s 193us/sample - loss: 1.8173 - val_loss: 1.7814\n",
      "Last loss: 1048576, cur loss: [1.7813716118000755]\n",
      "Train on 19358 samples, validate on 4840 samples\n",
      "19358/19358 [==============================] - 3s 176us/sample - loss: 1.7029 - val_loss: 1.8387\n",
      "Last loss: [1.7813716118000755], cur loss: [1.8387189065129304]\n",
      "Stopping...\n"
     ]
    },
    {
     "data": {
      "text/plain": [
       "array([ 1.02071381,  0.51523781, -4.39254642, ...,  1.19220734,\n",
       "        2.31702089,  1.58090591])"
      ]
     },
     "execution_count": 56,
     "metadata": {},
     "output_type": "execute_result"
    },
    {
     "data": {
      "image/png": "[encoded data removed]",
      "text/plain": [
       "<Figure size 432x288 with 1 Axes>"
      ]
     },
     "metadata": {
      "needs_background": "light"
     },
     "output_type": "display_data"
    }
   ],
   "source": [
    "get_diffs_distr(unscaled, get_poisson_twol_m(unscaled, 'logcosh'))"
   ]
  },
  {
   "cell_type": "code",
   "execution_count": null,
   "metadata": {},
   "outputs": [],
   "source": []
  }
 ],
 "metadata": {
  "kernelspec": {
   "display_name": "Python 3",
   "language": "python",
   "name": "python3"
  },
  "language_info": {
   "codemirror_mode": {
    "name": "ipython",
    "version": 3
   },
   "file_extension": ".py",
   "mimetype": "text/x-python",
   "name": "python",
   "nbconvert_exporter": "python",
   "pygments_lexer": "ipython3",
   "version": "3.7.6"
  }
 },
 "nbformat": 4,
 "nbformat_minor": 2
}
